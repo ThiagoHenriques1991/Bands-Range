{
 "cells": [
  {
   "cell_type": "code",
   "execution_count": null,
   "id": "986949e7",
   "metadata": {},
   "outputs": [],
   "source": [
    "!pip install pandas ta requests\n",
    "\n",
    "import pandas as pd\n",
    "import ta\n",
    "import requests\n",
    "from ta.volatility import BollingerBands\n",
    "from ta.momentum import RSIIndicator\n",
    "\n",
    "# Fetch data from Token Metrics API\n",
    "api_key = \"tm-********-****-****-****-************\"\n",
    "token_id = \"3375\"  # Replace this with the SHIB token ID from Token Metrics\n",
    "start_date = \"2021-01-01\"\n",
    "end_date = \"2021-12-31\"\n",
    "\n",
    "ohlcv_url = f\"https://api.tokenmetrics.com/v1/tokens/{token_id}/ohlcv?start_date={start_date}&end_date={end_date}\"\n",
    "\n",
    "headers = {\n",
    "    \"accept\": \"application/json\",\n",
    "    \"api_key\": api_key\n",
    "}\n",
    "\n",
    "response = requests.get(ohlcv_url, headers=headers)\n",
    "print(response.text)  # Add this line to print the response content\n",
    "ohlcv_data = response.json()['data']\n",
    "\n",
    "\n",
    "# Create a DataFrame\n",
    "df = pd.DataFrame(ohlcv_data)\n",
    "df['date'] = pd.to_datetime(df['date'])\n",
    "df['price'] = df['close'].astype(float)\n",
    "\n",
    "# Calculate Bollinger Bands\n",
    "bb = BollingerBands(df['price'], window=20, window_dev=2)\n",
    "df['bb_high'] = bb.bollinger_hband()\n",
    "df['bb_low'] = bb.bollinger_lband()\n",
    "\n",
    "# Calculate RSI\n",
    "rsi = RSIIndicator(df['price'], window=14)\n",
    "df['rsi'] = rsi.rsi()\n",
    "\n",
    "# Define entry signals\n",
    "def signal(row):\n",
    "    if row['price'] < row['bb_low'] and row['rsi'] < 30:\n",
    "        return 'Buy'\n",
    "    elif row['price'] > row['bb_high'] and row['rsi'] > 70:\n",
    "        return 'Sell'\n",
    "    else:\n",
    "        return 'Hold'\n",
    "\n",
    "df['signal'] = df.apply(signal, axis=1)\n",
    "\n",
    "# Print the resulting DataFrame\n",
    "print(df)\n"
   ]
  }
 ],
 "metadata": {
  "kernelspec": {
   "display_name": "Python 3 (ipykernel)",
   "language": "python",
   "name": "python3"
  },
  "language_info": {
   "codemirror_mode": {
    "name": "ipython",
    "version": 3
   },
   "file_extension": ".py",
   "mimetype": "text/x-python",
   "name": "python",
   "nbconvert_exporter": "python",
   "pygments_lexer": "ipython3",
   "version": "3.11.1"
  }
 },
 "nbformat": 4,
 "nbformat_minor": 5
}
